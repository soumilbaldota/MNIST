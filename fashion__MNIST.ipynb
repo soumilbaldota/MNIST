{
  "nbformat": 4,
  "nbformat_minor": 0,
  "metadata": {
    "colab": {
      "name": "fashion__MNIST.ipynb",
      "provenance": [],
      "authorship_tag": "ABX9TyMquJb3Y+DH6tQ5Tl8qcgED",
      "include_colab_link": true
    },
    "kernelspec": {
      "name": "python3",
      "display_name": "Python 3"
    },
    "accelerator": "GPU"
  },
  "cells": [
    {
      "cell_type": "markdown",
      "metadata": {
        "id": "view-in-github",
        "colab_type": "text"
      },
      "source": [
        "<a href=\"https://colab.research.google.com/github/soumilbaldota/MNIST/blob/master/fashion__MNIST.ipynb\" target=\"_parent\"><img src=\"https://colab.research.google.com/assets/colab-badge.svg\" alt=\"Open In Colab\"/></a>"
      ]
    },
    {
      "cell_type": "code",
      "metadata": {
        "id": "H5mliiS1UwHM",
        "outputId": "0b6db9e1-5326-481d-fee3-15166a40cc6e",
        "colab": {
          "base_uri": "https://localhost:8080/",
          "height": 34
        }
      },
      "source": [
        "%matplotlib inline\n",
        "try:\n",
        "  %tensorflow_version 1.x\n",
        "except:\n",
        "  pass\n",
        "import tensorflow as tf\n",
        "import matplotlib.pyplot as plt\n",
        "%matplotlib inline\n"
      ],
      "execution_count": 2,
      "outputs": [
        {
          "output_type": "stream",
          "text": [
            "TensorFlow 1.x selected.\n"
          ],
          "name": "stdout"
        }
      ]
    },
    {
      "cell_type": "code",
      "metadata": {
        "id": "VZuPMzz3VPkU",
        "outputId": "ef25614a-abc6-4742-cf9a-515e8a088bfe",
        "colab": {
          "base_uri": "https://localhost:8080/",
          "height": 34
        }
      },
      "source": [
        "from keras.datasets import fashion_mnist\n"
      ],
      "execution_count": 3,
      "outputs": [
        {
          "output_type": "stream",
          "text": [
            "Using TensorFlow backend.\n"
          ],
          "name": "stderr"
        }
      ]
    },
    {
      "cell_type": "code",
      "metadata": {
        "id": "yWdJBa0cVfzx",
        "outputId": "fbfd4056-fb55-49d4-f34d-56581bedffc9",
        "colab": {
          "base_uri": "https://localhost:8080/",
          "height": 151
        }
      },
      "source": [
        "((X_train,y_train),(X_test,y_test))=fashion_mnist.load_data()"
      ],
      "execution_count": 4,
      "outputs": [
        {
          "output_type": "stream",
          "text": [
            "Downloading data from http://fashion-mnist.s3-website.eu-central-1.amazonaws.com/train-labels-idx1-ubyte.gz\n",
            "32768/29515 [=================================] - 0s 3us/step\n",
            "Downloading data from http://fashion-mnist.s3-website.eu-central-1.amazonaws.com/train-images-idx3-ubyte.gz\n",
            "26427392/26421880 [==============================] - 2s 0us/step\n",
            "Downloading data from http://fashion-mnist.s3-website.eu-central-1.amazonaws.com/t10k-labels-idx1-ubyte.gz\n",
            "8192/5148 [===============================================] - 0s 0us/step\n",
            "Downloading data from http://fashion-mnist.s3-website.eu-central-1.amazonaws.com/t10k-images-idx3-ubyte.gz\n",
            "4423680/4422102 [==============================] - 1s 0us/step\n"
          ],
          "name": "stdout"
        }
      ]
    },
    {
      "cell_type": "code",
      "metadata": {
        "id": "5Jfp-741VoTe"
      },
      "source": [
        "X_train=X_train.reshape(60000, 28, 28, 1)\n",
        "X_train = X_train/255.0\n",
        "X_test = X_test/255.0"
      ],
      "execution_count": 5,
      "outputs": []
    },
    {
      "cell_type": "code",
      "metadata": {
        "id": "5zG_ayKMVy49"
      },
      "source": [
        "from keras.utils import to_categorical\n",
        "y_train = to_categorical(y_train)"
      ],
      "execution_count": 6,
      "outputs": []
    },
    {
      "cell_type": "code",
      "metadata": {
        "id": "npIAWLBIV2ly",
        "outputId": "04286d35-68dc-4047-f78b-e8b1e6e2d8fa",
        "colab": {
          "base_uri": "https://localhost:8080/",
          "height": 34
        }
      },
      "source": [
        "y_train[0]"
      ],
      "execution_count": 7,
      "outputs": [
        {
          "output_type": "execute_result",
          "data": {
            "text/plain": [
              "array([0., 0., 0., 0., 0., 0., 0., 0., 0., 1.], dtype=float32)"
            ]
          },
          "metadata": {
            "tags": []
          },
          "execution_count": 7
        }
      ]
    },
    {
      "cell_type": "code",
      "metadata": {
        "id": "VH-KKIH6V7Fj"
      },
      "source": [
        "class myCallback(tf.keras.callbacks.Callback):\n",
        "  def on_epoch_end(self,epoch,logs={}):\n",
        "    if logs.get('acc')>=0.998:\n",
        "      print(\"\\nReached 99.8% accuracy so cancelling training!\")\n",
        "      self.model.stop_training=True\n",
        "callbacks=myCallback()"
      ],
      "execution_count": 8,
      "outputs": []
    },
    {
      "cell_type": "code",
      "metadata": {
        "id": "fQvCj72GV9ys"
      },
      "source": [
        "from keras.models import Sequential\n",
        "from keras.layers import Conv2D,BatchNormalization,Dropout,Dense,Flatten,MaxPooling2D"
      ],
      "execution_count": 9,
      "outputs": []
    },
    {
      "cell_type": "code",
      "metadata": {
        "id": "mX7fAqE7WCJG",
        "outputId": "504d192c-749d-45a3-cdae-0054afd3f523",
        "colab": {
          "base_uri": "https://localhost:8080/",
          "height": 121
        }
      },
      "source": [
        "model = Sequential()\n",
        "model.add(Conv2D(64,(3,3),padding=\"same\",input_shape=(28,28,1),activation='relu'))\n",
        "model.add(MaxPooling2D(pool_size=(2, 2)))\n",
        "model.add(Conv2D(64, (3, 3), padding=\"same\",activation='relu'))\n",
        "model.add(MaxPooling2D(pool_size=(2, 2)))\n",
        "\n",
        "model.add(Flatten())\n",
        "model.add(Dense(512,activation='relu'))\n",
        "model.add(BatchNormalization(axis=-1))\n",
        "model.add(Dense(10,activation='softmax'))\n"
      ],
      "execution_count": 10,
      "outputs": [
        {
          "output_type": "stream",
          "text": [
            "WARNING:tensorflow:From /tensorflow-1.15.2/python3.6/tensorflow_core/python/ops/resource_variable_ops.py:1630: calling BaseResourceVariable.__init__ (from tensorflow.python.ops.resource_variable_ops) with constraint is deprecated and will be removed in a future version.\n",
            "Instructions for updating:\n",
            "If using Keras pass *_constraint arguments to layers.\n",
            "WARNING:tensorflow:From /tensorflow-1.15.2/python3.6/keras/backend/tensorflow_backend.py:4070: The name tf.nn.max_pool is deprecated. Please use tf.nn.max_pool2d instead.\n",
            "\n"
          ],
          "name": "stdout"
        }
      ]
    },
    {
      "cell_type": "code",
      "metadata": {
        "id": "E1GhOPC4WFRn",
        "outputId": "08e407f8-c2cd-4b13-b8ee-165dfedeb989",
        "colab": {
          "base_uri": "https://localhost:8080/",
          "height": 420
        }
      },
      "source": [
        "model.summary()"
      ],
      "execution_count": 11,
      "outputs": [
        {
          "output_type": "stream",
          "text": [
            "Model: \"sequential_1\"\n",
            "_________________________________________________________________\n",
            "Layer (type)                 Output Shape              Param #   \n",
            "=================================================================\n",
            "conv2d_1 (Conv2D)            (None, 28, 28, 64)        640       \n",
            "_________________________________________________________________\n",
            "max_pooling2d_1 (MaxPooling2 (None, 14, 14, 64)        0         \n",
            "_________________________________________________________________\n",
            "conv2d_2 (Conv2D)            (None, 14, 14, 64)        36928     \n",
            "_________________________________________________________________\n",
            "max_pooling2d_2 (MaxPooling2 (None, 7, 7, 64)          0         \n",
            "_________________________________________________________________\n",
            "flatten_1 (Flatten)          (None, 3136)              0         \n",
            "_________________________________________________________________\n",
            "dense_1 (Dense)              (None, 512)               1606144   \n",
            "_________________________________________________________________\n",
            "batch_normalization_1 (Batch (None, 512)               2048      \n",
            "_________________________________________________________________\n",
            "dense_2 (Dense)              (None, 10)                5130      \n",
            "=================================================================\n",
            "Total params: 1,650,890\n",
            "Trainable params: 1,649,866\n",
            "Non-trainable params: 1,024\n",
            "_________________________________________________________________\n"
          ],
          "name": "stdout"
        }
      ]
    },
    {
      "cell_type": "code",
      "metadata": {
        "id": "SQiq4BNHWJji"
      },
      "source": [
        "model.compile(loss='categorical_crossentropy',optimizer='adam',metrics=['acc'])"
      ],
      "execution_count": 14,
      "outputs": []
    },
    {
      "cell_type": "code",
      "metadata": {
        "id": "ihS1-ixRWP_X",
        "outputId": "2b4a8567-ee5f-414a-c3e0-676926bbcc15",
        "colab": {
          "base_uri": "https://localhost:8080/",
          "height": 726
        }
      },
      "source": [
        "history=model.fit(X_train,y_train,shuffle=True,verbose=1,epochs=20,callbacks=[callbacks],validation_split=0.2)"
      ],
      "execution_count": 15,
      "outputs": [
        {
          "output_type": "stream",
          "text": [
            "Train on 48000 samples, validate on 12000 samples\n",
            "Epoch 1/20\n",
            "48000/48000 [==============================] - 10s 205us/step - loss: 0.2833 - acc: 0.8982 - val_loss: 0.2723 - val_acc: 0.9032\n",
            "Epoch 2/20\n",
            "48000/48000 [==============================] - 10s 203us/step - loss: 0.2383 - acc: 0.9145 - val_loss: 0.3023 - val_acc: 0.8918\n",
            "Epoch 3/20\n",
            "48000/48000 [==============================] - 10s 200us/step - loss: 0.2107 - acc: 0.9232 - val_loss: 0.2511 - val_acc: 0.9104\n",
            "Epoch 4/20\n",
            "48000/48000 [==============================] - 10s 201us/step - loss: 0.1918 - acc: 0.9299 - val_loss: 0.2755 - val_acc: 0.9018\n",
            "Epoch 5/20\n",
            "48000/48000 [==============================] - 10s 202us/step - loss: 0.1714 - acc: 0.9374 - val_loss: 0.2400 - val_acc: 0.9202\n",
            "Epoch 6/20\n",
            "48000/48000 [==============================] - 10s 212us/step - loss: 0.1548 - acc: 0.9429 - val_loss: 0.2520 - val_acc: 0.9149\n",
            "Epoch 7/20\n",
            "48000/48000 [==============================] - 10s 199us/step - loss: 0.1391 - acc: 0.9483 - val_loss: 0.2810 - val_acc: 0.9066\n",
            "Epoch 8/20\n",
            "48000/48000 [==============================] - 10s 201us/step - loss: 0.1258 - acc: 0.9534 - val_loss: 0.2639 - val_acc: 0.9106\n",
            "Epoch 9/20\n",
            "48000/48000 [==============================] - 10s 201us/step - loss: 0.1085 - acc: 0.9595 - val_loss: 0.2857 - val_acc: 0.9153\n",
            "Epoch 10/20\n",
            "48000/48000 [==============================] - 10s 200us/step - loss: 0.0982 - acc: 0.9629 - val_loss: 0.2747 - val_acc: 0.9187\n",
            "Epoch 11/20\n",
            "48000/48000 [==============================] - 10s 200us/step - loss: 0.0900 - acc: 0.9673 - val_loss: 0.2956 - val_acc: 0.9180\n",
            "Epoch 12/20\n",
            "48000/48000 [==============================] - 10s 200us/step - loss: 0.0771 - acc: 0.9711 - val_loss: 0.3031 - val_acc: 0.9168\n",
            "Epoch 13/20\n",
            "48000/48000 [==============================] - 10s 199us/step - loss: 0.0732 - acc: 0.9728 - val_loss: 0.3021 - val_acc: 0.9192\n",
            "Epoch 14/20\n",
            "48000/48000 [==============================] - 10s 200us/step - loss: 0.0604 - acc: 0.9780 - val_loss: 0.2886 - val_acc: 0.9163\n",
            "Epoch 15/20\n",
            "48000/48000 [==============================] - 9s 198us/step - loss: 0.0573 - acc: 0.9784 - val_loss: 0.3199 - val_acc: 0.9230\n",
            "Epoch 16/20\n",
            "48000/48000 [==============================] - 9s 197us/step - loss: 0.0516 - acc: 0.9809 - val_loss: 0.3870 - val_acc: 0.9111\n",
            "Epoch 17/20\n",
            "48000/48000 [==============================] - 9s 197us/step - loss: 0.0471 - acc: 0.9822 - val_loss: 0.3801 - val_acc: 0.9128\n",
            "Epoch 18/20\n",
            "48000/48000 [==============================] - 9s 197us/step - loss: 0.0419 - acc: 0.9848 - val_loss: 0.3792 - val_acc: 0.9131\n",
            "Epoch 19/20\n",
            "48000/48000 [==============================] - 9s 197us/step - loss: 0.0395 - acc: 0.9851 - val_loss: 0.3922 - val_acc: 0.9192\n",
            "Epoch 20/20\n",
            "48000/48000 [==============================] - 9s 197us/step - loss: 0.0359 - acc: 0.9866 - val_loss: 0.3672 - val_acc: 0.9202\n"
          ],
          "name": "stdout"
        }
      ]
    },
    {
      "cell_type": "code",
      "metadata": {
        "id": "2IJ_9ly7WSb7",
        "outputId": "3bd784c8-a315-4e1c-e881-b0482d493b5e",
        "colab": {
          "base_uri": "https://localhost:8080/",
          "height": 34
        }
      },
      "source": [
        "y_test=to_categorical(y_test)\n",
        "X_test=X_test.reshape(X_test.shape[0],28,28,1)\n",
        "test_history=model.evaluate(X_test,y_test)"
      ],
      "execution_count": 16,
      "outputs": [
        {
          "output_type": "stream",
          "text": [
            "10000/10000 [==============================] - 1s 74us/step\n"
          ],
          "name": "stdout"
        }
      ]
    },
    {
      "cell_type": "code",
      "metadata": {
        "id": "7b4DkgB0XdKJ",
        "outputId": "fbf70164-dbe5-4716-f5bb-5cfec2f7771d",
        "colab": {
          "base_uri": "https://localhost:8080/",
          "height": 67
        }
      },
      "source": [
        "print(\"Training accuracy: {:.2f}%\".format(history.history['acc'][-1]*100))\n",
        "print(\"Validation accuracy: {:.2f}%\".format(history.history['val_acc'][-1]*100))\n",
        "print(\"Test accuracy: {:.2f}%\".format(test_history[1]*100))\n"
      ],
      "execution_count": 17,
      "outputs": [
        {
          "output_type": "stream",
          "text": [
            "Training accuracy: 98.66%\n",
            "Validation accuracy: 92.02%\n",
            "Test accuracy: 91.11%\n"
          ],
          "name": "stdout"
        }
      ]
    },
    {
      "cell_type": "code",
      "metadata": {
        "id": "rvf7do-WXhM4"
      },
      "source": [
        "model.save('my_mnist.h5')"
      ],
      "execution_count": 18,
      "outputs": []
    },
    {
      "cell_type": "code",
      "metadata": {
        "id": "WoOAfSd4Xnd-"
      },
      "source": [
        ""
      ],
      "execution_count": null,
      "outputs": []
    }
  ]
}